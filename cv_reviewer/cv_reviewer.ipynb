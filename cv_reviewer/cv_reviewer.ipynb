{
 "cells": [
  {
   "cell_type": "code",
   "execution_count": 1,
   "id": "db0bc5a6-669c-4de4-9c32-17aef875d670",
   "metadata": {},
   "outputs": [],
   "source": [
    "import os\n",
    "import utils.cv_reviewer_utils as cv_utils\n",
    "from IPython.display import Markdown, display\n",
    "import json"
   ]
  },
  {
   "cell_type": "code",
   "execution_count": 2,
   "id": "3430549e-7dd9-4de9-8d28-ea5163613c53",
   "metadata": {},
   "outputs": [],
   "source": [
    "#if its published somewhere\n",
    "#job_description = get_job_description(\"url\")\n",
    "\n",
    "job_description = \"\"\"\n",
    "\n",
    "Job Title: Junior Data Engineer\n",
    "Location: Remote\n",
    "Job Type: Full-time\n",
    "Team: Data Engineering\n",
    "Reports to: Senior Data Engineer\n",
    "\n",
    "About the Role:\n",
    "\n",
    "We are looking for a Junior Data Engineer to join our growing data team. You will support the design, development, and maintenance of data pipelines and infrastructure that power data analytics, reporting, and data-driven decision-making across the company.\n",
    "This is a great opportunity for someone early in their career to learn and grow while working on real-world data challenges in a collaborative and agile environment.\n",
    "\n",
    "Key Responsibilities\n",
    "- Assist in building, maintaining, and optimizing ETL/ELT pipelines.\n",
    "- Work closely with data analysts, scientists, and engineers to support data ingestion and transformation workflows.\n",
    "- Help ensure the reliability and quality of data across systems.\n",
    "- Monitor and troubleshoot data pipelines and processes.\n",
    "- Contribute to documentation of data flows, models, and architecture.\n",
    "- Learn and apply best practices in data engineering, including security and scalability.\n",
    "\n",
    "Requirements:\n",
    "\n",
    "- Basic knowledge of SQL and at least one programming language (Python preferred).\n",
    "- Familiarity with data storage systems (e.g., relational databases, cloud storage).\n",
    "- Understanding of data processing concepts and tools.\n",
    "- Willingness to learn and grow in a fast-paced environment.\n",
    "- Good communication and problem-solving skills.\n",
    "- Bachelor’s degree in Computer Science, Engineering, Mathematics, or related field (or equivalent practical experience).\n",
    "\n",
    "Nice to Have:\n",
    "\n",
    "- Exposure to cloud platforms like AWS, GCP, or Azure.\n",
    "- Experience with version control (e.g., Git).\n",
    "- Basic knowledge of data modeling concepts.\n",
    "- Familiarity with tools like Airflow, dbt, or Spark.\n",
    "\n",
    "\"\"\""
   ]
  },
  {
   "cell_type": "code",
   "execution_count": 3,
   "id": "cca89b0d-3f05-4257-a15f-4701ec76d01f",
   "metadata": {},
   "outputs": [],
   "source": [
    "\n",
    "# in lower case\n",
    "mandatory_keywords = [\"spark\",\"python\"]\n",
    "language = \"spanish\"\n",
    "\n",
    "landing_path = './landing'\n",
    "        \n",
    "# \"llama3.2\" or chatgpt model\n",
    "model = \"llama3.2\""
   ]
  },
  {
   "cell_type": "code",
   "execution_count": 4,
   "id": "0cdf12ed-fcfd-41b4-9b3a-36cd3b57ec35",
   "metadata": {},
   "outputs": [
    {
     "name": "stderr",
     "output_type": "stream",
     "text": [
      "CropBox missing from /Page, defaulting to MediaBox\n",
      "CropBox missing from /Page, defaulting to MediaBox\n"
     ]
    },
    {
     "name": "stdout",
     "output_type": "stream",
     "text": [
      "▶️ Using llama3.2 via Ollama...\n"
     ]
    },
    {
     "name": "stderr",
     "output_type": "stream",
     "text": [
      "CropBox missing from /Page, defaulting to MediaBox\n",
      "CropBox missing from /Page, defaulting to MediaBox\n"
     ]
    },
    {
     "name": "stdout",
     "output_type": "stream",
     "text": [
      "▶️ Using llama3.2 via Ollama...\n"
     ]
    },
    {
     "name": "stderr",
     "output_type": "stream",
     "text": [
      "CropBox missing from /Page, defaulting to MediaBox\n",
      "CropBox missing from /Page, defaulting to MediaBox\n",
      "CropBox missing from /Page, defaulting to MediaBox\n",
      "CropBox missing from /Page, defaulting to MediaBox\n"
     ]
    },
    {
     "name": "stdout",
     "output_type": "stream",
     "text": [
      "▶️ Using llama3.2 via Ollama...\n"
     ]
    },
    {
     "name": "stderr",
     "output_type": "stream",
     "text": [
      "CropBox missing from /Page, defaulting to MediaBox\n",
      "CropBox missing from /Page, defaulting to MediaBox\n"
     ]
    },
    {
     "name": "stdout",
     "output_type": "stream",
     "text": [
      "▶️ Using llama3.2 via Ollama...\n"
     ]
    },
    {
     "data": {
      "text/markdown": [
       "### 📊 Candidate Evaluations\n",
       "\n",
       "\n",
       "**🧑‍💼 Candidate #1: alan susa.pdf – 80%**\n",
       "\n",
       "Tiene experiencia en diseño y implementación de pipelines de datos en tiempo real utilizando Spark y PySpark. También tiene conocimientos en bases de datos NoSQL (MongoDB) y SQL (Postgres, Redshift, MySQL). Aunque es un Data Engineer Intern, su experiencia sugiere que podría ser capaz de asistir en la construcción y mantenimiento de pipelines de datos, pero podría necesitar orientación adicional.\n",
       "\n",
       "**📝 Recommended Questions**\n",
       "- ¿Cuál es tu nivel actual de experiencia como engineer de datos?\n",
       "- ¿Cómo manejas el aprendizaje continuo en un entorno de tecnología en constante evolución?\n",
       "\n",
       "---\n",
       "\n",
       "**🧑‍💼 Candidate #2: john smith.pdf – 68%**\n",
       "\n",
       "El candidato tiene experiencia en Spark y Python como tecnologías favoritas. También tiene conocimientos básicos de SQL y ha trabajado con ETL pipelines. Sin embargo, su senioridad no coincide con la del puesto, ya que busca un Junior Data Engineer.\n",
       "\n",
       "**📝 Recommended Questions**\n",
       "- ¿Cuál es tu nivel actual de experiencia en data engineering?\n",
       "- Cómo crees que tus habilidades en ETL y SQL se adaptan al puesto de Junior Data Engineer?\n",
       "\n",
       "---\n",
       "\n",
       "**🧑‍💼 Candidate #3: Thaddeus Drake.pdf – 66%**\n",
       "\n",
       "meets most of the requirements, lacking experience with Spark and cloud platforms, has strong knowledge on Python and database systems.\n",
       "\n",
       "**📝 Recommended Questions**\n",
       "- Can you explain your experience with data processing concepts and tools?\n",
       "- How familiar are you with cloud platforms like AWS, GCP, or Azure?\n",
       "\n",
       "---\n",
       "\n",
       "**🧑‍💼 Candidate #4: Elara Quinn.pdf – 60%**\n",
       "\n",
       "has some relevant skills like data visualization and relational database management system, but lacks direct experience with ETL/ELT pipelines, cloud platforms and tools like Airflow or dbt. Seniority is lower than expected for a Junior Data Engineer.\n",
       "\n",
       "**📝 Recommended Questions**\n",
       "- What experience do you have with ETL/ELT pipelines?\n",
       "- Can you explain how you would optimize data ingestion and transformation workflows?\n",
       "- How familiar are you with cloud platforms like AWS, GCP or Azure?\n",
       "\n",
       "---\n"
      ],
      "text/plain": [
       "<IPython.core.display.Markdown object>"
      ]
     },
     "metadata": {},
     "output_type": "display_data"
    }
   ],
   "source": [
    "analysis_text = cv_utils.analyze_candidates(model, job_description, mandatory_keywords, landing_path, language)\n",
    "display(Markdown(analysis_text))"
   ]
  }
 ],
 "metadata": {
  "kernelspec": {
   "display_name": "Python 3 (ipykernel)",
   "language": "python",
   "name": "python3"
  },
  "language_info": {
   "codemirror_mode": {
    "name": "ipython",
    "version": 3
   },
   "file_extension": ".py",
   "mimetype": "text/x-python",
   "name": "python",
   "nbconvert_exporter": "python",
   "pygments_lexer": "ipython3",
   "version": "3.11.11"
  }
 },
 "nbformat": 4,
 "nbformat_minor": 5
}
