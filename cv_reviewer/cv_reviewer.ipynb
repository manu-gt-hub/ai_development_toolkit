{
 "cells": [
  {
   "cell_type": "code",
   "execution_count": 1,
   "id": "db0bc5a6-669c-4de4-9c32-17aef875d670",
   "metadata": {},
   "outputs": [],
   "source": [
    "import os\n",
    "import utils.cv_reviewer_utils as cv_utils\n",
    "from IPython.display import Markdown, display\n",
    "import json\n",
    "import warnings"
   ]
  },
  {
   "cell_type": "code",
   "execution_count": 2,
   "id": "2b93af96-005a-455a-95a6-453cfcba0724",
   "metadata": {},
   "outputs": [],
   "source": [
    "\n",
    "# Disable SSL warnings (optional but not recommended in production)\n",
    "warnings.filterwarnings(\"ignore\")"
   ]
  },
  {
   "cell_type": "code",
   "execution_count": 3,
   "id": "3430549e-7dd9-4de9-8d28-ea5163613c53",
   "metadata": {},
   "outputs": [],
   "source": [
    "#if its published somewhere\n",
    "#job_description = get_job_description(\"url\")\n",
    "\n",
    "job_description = \"\"\"\n",
    "\n",
    "Job Title: Junior Data Engineer\n",
    "Location: Remote\n",
    "Job Type: Full-time\n",
    "Team: Data Engineering\n",
    "Reports to: Senior Data Engineer\n",
    "\n",
    "About the Role:\n",
    "\n",
    "We are looking for a Junior Data Engineer to join our growing data team. You will support the design, development, and maintenance of data pipelines and infrastructure that power data analytics, reporting, and data-driven decision-making across the company.\n",
    "This is a great opportunity for someone early in their career to learn and grow while working on real-world data challenges in a collaborative and agile environment.\n",
    "\n",
    "Key Responsibilities\n",
    "- Assist in building, maintaining, and optimizing ETL/ELT pipelines.\n",
    "- Work closely with data analysts, scientists, and engineers to support data ingestion and transformation workflows.\n",
    "- Help ensure the reliability and quality of data across systems.\n",
    "- Monitor and troubleshoot data pipelines and processes.\n",
    "- Contribute to documentation of data flows, models, and architecture.\n",
    "- Learn and apply best practices in data engineering, including security and scalability.\n",
    "\n",
    "Requirements:\n",
    "\n",
    "- Basic knowledge of SQL and at least one programming language (Python preferred).\n",
    "- Familiarity with data storage systems (e.g., relational databases, cloud storage).\n",
    "- Understanding of data processing concepts and tools.\n",
    "- Willingness to learn and grow in a fast-paced environment.\n",
    "- Good communication and problem-solving skills.\n",
    "- Bachelor’s degree in Computer Science, Engineering, Mathematics, or related field (or equivalent practical experience).\n",
    "\n",
    "Nice to Have:\n",
    "\n",
    "- Exposure to cloud platforms like AWS, GCP, or Azure.\n",
    "- Experience with version control (e.g., Git).\n",
    "- Basic knowledge of data modeling concepts.\n",
    "- Familiarity with tools like Airflow, dbt, or Spark.\n",
    "\n",
    "\"\"\""
   ]
  },
  {
   "cell_type": "code",
   "execution_count": 4,
   "id": "cca89b0d-3f05-4257-a15f-4701ec76d01f",
   "metadata": {},
   "outputs": [],
   "source": [
    "\n",
    "# in lower case\n",
    "mandatory_keywords = [\"spark\",\"python\"]\n",
    "language = \"spanish\"\n",
    "\n",
    "landing_path = './landing'\n",
    "        \n",
    "# \"llama3.2\" or gpt-4o\", \"gpt-4-turbo\", \"gpt-4o-mini\"...\n",
    "model = \"gpt-4-turbo\""
   ]
  },
  {
   "cell_type": "code",
   "execution_count": 6,
   "id": "d3556d35-4abc-49fe-bc28-9380a1b7abd0",
   "metadata": {},
   "outputs": [
    {
     "name": "stderr",
     "output_type": "stream",
     "text": [
      "CropBox missing from /Page, defaulting to MediaBox\n",
      "CropBox missing from /Page, defaulting to MediaBox\n"
     ]
    },
    {
     "name": "stdout",
     "output_type": "stream",
     "text": [
      "▶️ Using gpt-4-turbo via OpenAI API...\n"
     ]
    },
    {
     "name": "stderr",
     "output_type": "stream",
     "text": [
      "CropBox missing from /Page, defaulting to MediaBox\n",
      "CropBox missing from /Page, defaulting to MediaBox\n"
     ]
    },
    {
     "name": "stdout",
     "output_type": "stream",
     "text": [
      "▶️ Using gpt-4-turbo via OpenAI API...\n"
     ]
    },
    {
     "name": "stderr",
     "output_type": "stream",
     "text": [
      "CropBox missing from /Page, defaulting to MediaBox\n",
      "CropBox missing from /Page, defaulting to MediaBox\n",
      "CropBox missing from /Page, defaulting to MediaBox\n",
      "CropBox missing from /Page, defaulting to MediaBox\n"
     ]
    },
    {
     "name": "stdout",
     "output_type": "stream",
     "text": [
      "▶️ Using gpt-4-turbo via OpenAI API...\n"
     ]
    },
    {
     "name": "stderr",
     "output_type": "stream",
     "text": [
      "CropBox missing from /Page, defaulting to MediaBox\n",
      "CropBox missing from /Page, defaulting to MediaBox\n"
     ]
    },
    {
     "name": "stdout",
     "output_type": "stream",
     "text": [
      "▶️ Using gpt-4-turbo via OpenAI API...\n"
     ]
    },
    {
     "data": {
      "text/markdown": [
       "### 📊 Candidate Evaluations\n",
       "\n",
       "\n",
       "**🧑‍💼 Candidate #1: Thaddeus Drake.pdf – 85%**\n",
       "\n",
       "El candidato tiene una experiencia relevante en ingeniería de datos, incluyendo el desarrollo y mantenimiento de pipelines de datos en AWS, y la automatización de flujos de trabajo con herramientas como Apache NiFi y Apache Airflow, lo cual coincide con las responsabilidades clave del puesto. Además, posee un conocimiento sólido en SQL y Python, alineándose con los requisitos técnicos del rol. Sin embargo, no se menciona experiencia directa con GCP o Azure, lo cual podría ser una área para explorar más.\n",
       "\n",
       "**📝 Recommended Questions**\n",
       "- ¿Puede describir un desafío que encontró al trabajar con pipelines de datos y cómo lo superó?\n",
       "- ¿Tiene experiencia trabajando en entornos de desarrollo colaborativos y podría dar un ejemplo de cómo ha contribuido a la documentación de flujos de datos?\n",
       "\n",
       "---\n",
       "\n",
       "**🧑‍💼 Candidate #2: Elara Quinn.pdf – 70%**\n",
       "\n",
       "El candidato ha trabajado como pasante de ingeniería de datos, manejando tecnologías relevantes como Apache Hadoop, MySQL y AWS, que son útiles para el rol ofrecido. Sin embargo, falta experiencia demostrada con Python y herramientas específicas como Airflow o Spark, que son deseables según la descripción del trabajo.\n",
       "\n",
       "**📝 Recommended Questions**\n",
       "- ¿Puede describir una experiencia donde haya tenido que optimizar pipelines de ETL/ELT?\n",
       "- ¿Tiene experiencia con Python en el contexto de la ingeniería de datos? Si es así, ¿puede proporcionar un ejemplo específico?\n",
       "\n",
       "---\n",
       "\n",
       "**🧑‍💼 Candidate #3: john smith.pdf – 65%**\n",
       "\n",
       "El candidato tiene más de 5 años de experiencia trabajando con grandes conjuntos de datos y ha desarrollado bases de datos escalables y procesos ETL, lo que supera el nivel de experiencia típicamente requerido para un puesto de Ingeniero de Datos Junior. Sin embargo, tiene experiencia relevante en tecnologías clave como SQL y Spark, aunque no se menciona Python, que es preferido para el puesto. Además, ha trabajado con más de 60 TB de datos diarios, lo que indica una capacidad para manejar grandes volúmenes de información.\n",
       "\n",
       "**📝 Recommended Questions**\n",
       "- ¿Puede describir un proyecto donde haya utilizado SQL para resolver un problema complejo de datos?\n",
       "- Dado que Python es preferido para este rol, ¿tiene experiencia trabajando con Python en algún proyecto de datos?\n",
       "- ¿Cómo asegura la calidad y fiabilidad de los datos en los sistemas que desarrolla?\n",
       "\n",
       "---\n",
       "\n",
       "**🧑‍💼 Candidate #4: alan susa.pdf – 55%**\n",
       "\n",
       "El candidato tiene experiencia avanzada como Ingeniero de Datos, superando el nivel de entrada requerido para el puesto de Ingeniero de Datos Junior. Ha trabajado con tecnologías relevantes como Spark, Python, AWS y Airflow, que son compatibles con las mencionadas en la descripción del trabajo. Sin embargo, su experiencia y habilidades pueden estar por encima del nivel junior, lo que podría no ser ideal para un rol que busca desarrollar a alguien al principio de su carrera.\n",
       "\n",
       "**📝 Recommended Questions**\n",
       "- ¿Puede describir un proyecto donde haya tenido que aprender una nueva tecnología o herramienta desde cero?\n",
       "- ¿Cómo se ve su rol ideal en términos de responsabilidades diarias y proyectos a largo plazo?\n",
       "\n",
       "---\n"
      ],
      "text/plain": [
       "<IPython.core.display.Markdown object>"
      ]
     },
     "metadata": {},
     "output_type": "display_data"
    }
   ],
   "source": [
    "analysis_text = cv_utils.analyze_candidates(model, job_description, mandatory_keywords, landing_path, language)\n",
    "display(Markdown(analysis_text))"
   ]
  }
 ],
 "metadata": {
  "kernelspec": {
   "display_name": "Python 3 (ipykernel)",
   "language": "python",
   "name": "python3"
  },
  "language_info": {
   "codemirror_mode": {
    "name": "ipython",
    "version": 3
   },
   "file_extension": ".py",
   "mimetype": "text/x-python",
   "name": "python",
   "nbconvert_exporter": "python",
   "pygments_lexer": "ipython3",
   "version": "3.11.11"
  }
 },
 "nbformat": 4,
 "nbformat_minor": 5
}
