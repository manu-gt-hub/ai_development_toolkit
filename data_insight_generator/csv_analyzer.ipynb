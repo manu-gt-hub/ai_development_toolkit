{
 "cells": [
  {
   "cell_type": "code",
   "execution_count": 1,
   "id": "76879941-5efc-455e-a3bc-dc7adf395f2b",
   "metadata": {},
   "outputs": [],
   "source": [
    "from utils import general_utils as gu"
   ]
  },
  {
   "cell_type": "code",
   "execution_count": 2,
   "id": "ebe43d28-5bc4-4682-bff9-399447d22485",
   "metadata": {},
   "outputs": [
    {
     "data": {
      "text/markdown": [
       "# Original data:\n"
      ],
      "text/plain": [
       "<IPython.core.display.Markdown object>"
      ]
     },
     "metadata": {},
     "output_type": "display_data"
    },
    {
     "data": {
      "text/html": [
       "<div>\n",
       "<style scoped>\n",
       "    .dataframe tbody tr th:only-of-type {\n",
       "        vertical-align: middle;\n",
       "    }\n",
       "\n",
       "    .dataframe tbody tr th {\n",
       "        vertical-align: top;\n",
       "    }\n",
       "\n",
       "    .dataframe thead th {\n",
       "        text-align: right;\n",
       "    }\n",
       "</style>\n",
       "<table border=\"1\" class=\"dataframe\">\n",
       "  <thead>\n",
       "    <tr style=\"text-align: right;\">\n",
       "      <th></th>\n",
       "      <th>Year</th>\n",
       "      <th>Industry_aggregation_NZSIOC</th>\n",
       "      <th>Industry_code_NZSIOC</th>\n",
       "      <th>Industry_name_NZSIOC</th>\n",
       "      <th>Units</th>\n",
       "      <th>Variable_code</th>\n",
       "      <th>Variable_name</th>\n",
       "      <th>Variable_category</th>\n",
       "      <th>Value</th>\n",
       "      <th>Industry_code_ANZSIC06</th>\n",
       "    </tr>\n",
       "  </thead>\n",
       "  <tbody>\n",
       "    <tr>\n",
       "      <th>0</th>\n",
       "      <td>2023</td>\n",
       "      <td>Level 1</td>\n",
       "      <td>99999</td>\n",
       "      <td>All industries</td>\n",
       "      <td>Dollars (millions)</td>\n",
       "      <td>H01</td>\n",
       "      <td>Total income</td>\n",
       "      <td>Financial performance</td>\n",
       "      <td>930995</td>\n",
       "      <td>ANZSIC06 divisions A-S (excluding classes K633...</td>\n",
       "    </tr>\n",
       "  </tbody>\n",
       "</table>\n",
       "</div>"
      ],
      "text/plain": [
       "   Year Industry_aggregation_NZSIOC Industry_code_NZSIOC Industry_name_NZSIOC  \\\n",
       "0  2023                     Level 1                99999       All industries   \n",
       "\n",
       "                Units Variable_code Variable_name      Variable_category  \\\n",
       "0  Dollars (millions)           H01  Total income  Financial performance   \n",
       "\n",
       "    Value                             Industry_code_ANZSIC06  \n",
       "0  930995  ANZSIC06 divisions A-S (excluding classes K633...  "
      ]
     },
     "metadata": {},
     "output_type": "display_data"
    },
    {
     "data": {
      "text/markdown": [
       "# Anonymized data:\n"
      ],
      "text/plain": [
       "<IPython.core.display.Markdown object>"
      ]
     },
     "metadata": {},
     "output_type": "display_data"
    },
    {
     "data": {
      "text/html": [
       "<div>\n",
       "<style scoped>\n",
       "    .dataframe tbody tr th:only-of-type {\n",
       "        vertical-align: middle;\n",
       "    }\n",
       "\n",
       "    .dataframe tbody tr th {\n",
       "        vertical-align: top;\n",
       "    }\n",
       "\n",
       "    .dataframe thead th {\n",
       "        text-align: right;\n",
       "    }\n",
       "</style>\n",
       "<table border=\"1\" class=\"dataframe\">\n",
       "  <thead>\n",
       "    <tr style=\"text-align: right;\">\n",
       "      <th></th>\n",
       "      <th>Year</th>\n",
       "      <th>Industry_aggregation_NZSIOC</th>\n",
       "      <th>Industry_code_NZSIOC</th>\n",
       "      <th>Industry_name_NZSIOC</th>\n",
       "      <th>Units</th>\n",
       "      <th>Variable_code</th>\n",
       "      <th>Variable_name</th>\n",
       "      <th>Variable_category</th>\n",
       "      <th>Value</th>\n",
       "      <th>Industry_code_ANZSIC06</th>\n",
       "    </tr>\n",
       "  </thead>\n",
       "  <tbody>\n",
       "    <tr>\n",
       "      <th>0</th>\n",
       "      <td>d398b29d3dbbb9bf201d4c7e1c19ff9d43c15fd45a0cec...</td>\n",
       "      <td>Level 1</td>\n",
       "      <td>99999</td>\n",
       "      <td>All industries</td>\n",
       "      <td>Dollars (millions)</td>\n",
       "      <td>H01</td>\n",
       "      <td>Total income</td>\n",
       "      <td>Financial performance</td>\n",
       "      <td>930995</td>\n",
       "      <td>ANZSIC06 divisions A-S (excluding classes K633...</td>\n",
       "    </tr>\n",
       "  </tbody>\n",
       "</table>\n",
       "</div>"
      ],
      "text/plain": [
       "                                                Year  \\\n",
       "0  d398b29d3dbbb9bf201d4c7e1c19ff9d43c15fd45a0cec...   \n",
       "\n",
       "  Industry_aggregation_NZSIOC Industry_code_NZSIOC Industry_name_NZSIOC  \\\n",
       "0                     Level 1                99999       All industries   \n",
       "\n",
       "                Units Variable_code Variable_name      Variable_category  \\\n",
       "0  Dollars (millions)           H01  Total income  Financial performance   \n",
       "\n",
       "    Value                             Industry_code_ANZSIC06  \n",
       "0  930995  ANZSIC06 divisions A-S (excluding classes K633...  "
      ]
     },
     "metadata": {},
     "output_type": "display_data"
    },
    {
     "name": "stdout",
     "output_type": "stream",
     "text": [
      "✅ Process completed. Report saved at: ./resources/output/REPORT.txt\n",
      "\n",
      "===== Processing Report =====\n",
      "\n",
      "✅ CSV read from: ./resources/input/\n",
      "➡️ Rows: 50985, Columns: 10\n",
      "🔒 Anonymized column: Year\n",
      "📁 Anonymized CSV saved at: ./resources/output/processed.csv\n",
      "☁️ File uploaded to OpenAI with file_id: file-QSiSACFU8cwhbiHEE9f7oP\n",
      "🤖 Assistant response:\n",
      "\n",
      "--- Begin Assistant Response ---\n",
      "\n",
      "The data has been processed to remove duplicates based on the `Industry_name_NZSIOC` and `Variable_code` columns. Additionally, there are no null values in the `Industry_code_ANZSIC06` column.\n",
      "\n",
      "If you would like to perform further analysis or save the cleaned data, please let me know!\n",
      "\n",
      "=================================\n"
     ]
    }
   ],
   "source": [
    "user_prompt=\"\"\"\n",
    "Parse this CSV and remove duplicates in the Industry_name_NZSIOC and Variable_code columns, check that there are no nulls in the date Industry_code_ANZSIC06\n",
    "\"\"\"\n",
    "\n",
    "model_name=\"gpt-4o-mini\"\n",
    "model_temperature = 1\n",
    "\n",
    "report = gu.anonymize_and_process(\n",
    "    model_name = model_name,\n",
    "    temperature = model_temperature,\n",
    "    columns_to_anonymize=[\"Year\"],\n",
    "    input_csv_dir=\"./resources/input/\",\n",
    "    output_csv_dir=\"./resources/output/\",\n",
    "    output_file_name=\"processed.csv\",\n",
    "    report_file_name=\"REPORT.txt\",\n",
    "    prompt=user_prompt,\n",
    "    show_sample=True\n",
    ")\n",
    "\n",
    "gu.print_report(report)\n"
   ]
  }
 ],
 "metadata": {
  "kernelspec": {
   "display_name": "Python 3 (ipykernel)",
   "language": "python",
   "name": "python3"
  },
  "language_info": {
   "codemirror_mode": {
    "name": "ipython",
    "version": 3
   },
   "file_extension": ".py",
   "mimetype": "text/x-python",
   "name": "python",
   "nbconvert_exporter": "python",
   "pygments_lexer": "ipython3",
   "version": "3.11.11"
  }
 },
 "nbformat": 4,
 "nbformat_minor": 5
}
