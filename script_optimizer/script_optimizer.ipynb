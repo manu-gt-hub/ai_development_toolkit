{
 "cells": [
  {
   "cell_type": "code",
   "execution_count": null,
   "id": "76863cfa-71ff-439f-926b-a751b0a926ae",
   "metadata": {},
   "outputs": [],
   "source": [
    "from utils import optimizer_utils as ou"
   ]
  },
  {
   "cell_type": "code",
   "execution_count": 2,
   "id": "1742169f-9648-4d42-9e1e-2aaaafaaa44e",
   "metadata": {},
   "outputs": [
    {
     "name": "stdout",
     "output_type": "stream",
     "text": [
      "Processing file: ./resources/original_script/original_notebook.py\n",
      "▶️ Using gpt-4o-mini via OpenAI API...\n",
      "📝 Notes from LLM:\n",
      " NOTE: The refactored code enhances clarity and reliability. Each function now contains detailed docstrings explaining its purpose, parameters, and return values, thus adhering to PEP 257. Unused imports were removed, and the code structure was streamlined for better readability. Functions were named descriptively, improving maintainability. Additionally, error handling was implemented with try/except to manage potential issues during processing. Simple unit tests were added to validate functionality, ensuring greater code robustness. This version is now compliant with PEP 8 standards.\n",
      "✅ Optimized script saved to: ./resources/optimized_script/optimized_gpt_unit_tests.py\n"
     ]
    }
   ],
   "source": [
    "\n",
    "system_prompt = \"you are a senior python developer.\"\n",
    "\n",
    "input_path = \"./resources/original_script/\"\n",
    "output_path = \"./resources/optimized_script/\"\n",
    "\n",
    "extension = \".py\"\n",
    "\n",
    "create_unitary_tests = True\n",
    "\n",
    "# \"llama3.2\" or \"gpt-4o-mini\"\n",
    "model = \"gpt-4o-mini\"\n",
    "output_file_name = \"optimized_gpt_unit_tests.py\"\n",
    "\n",
    "# call optimizer\n",
    "ou.optimize_script(input_path, extension, output_path, model, system_prompt, output_file_name, create_unitary_tests)\n"
   ]
  },
  {
   "cell_type": "code",
   "execution_count": 3,
   "id": "c6cce491-63dc-4b72-8f35-b4dd3446a35a",
   "metadata": {},
   "outputs": [
    {
     "name": "stdout",
     "output_type": "stream",
     "text": [
      "✅ Script executed successfully.\n",
      "\n"
     ]
    }
   ],
   "source": [
    "# script path\n",
    "script_path = output_path + output_file_name\n",
    "\n",
    "# run the optimized script to ensure that the code runs OK\n",
    "ou.run_python_script(script_path)"
   ]
  }
 ],
 "metadata": {
  "kernelspec": {
   "display_name": "Python 3 (ipykernel)",
   "language": "python",
   "name": "python3"
  },
  "language_info": {
   "codemirror_mode": {
    "name": "ipython",
    "version": 3
   },
   "file_extension": ".py",
   "mimetype": "text/x-python",
   "name": "python",
   "nbconvert_exporter": "python",
   "pygments_lexer": "ipython3",
   "version": "3.11.11"
  }
 },
 "nbformat": 4,
 "nbformat_minor": 5
}
