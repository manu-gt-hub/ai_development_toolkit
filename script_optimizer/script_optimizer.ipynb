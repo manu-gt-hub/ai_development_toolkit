{
 "cells": [
  {
   "cell_type": "code",
   "execution_count": 1,
   "id": "76863cfa-71ff-439f-926b-a751b0a926ae",
   "metadata": {},
   "outputs": [],
   "source": [
    "from utils import optimizer_utils as ou\n",
    "import warnings\n"
   ]
  },
  {
   "cell_type": "code",
   "execution_count": 2,
   "id": "797c480e-b800-4f4a-bf16-100d750ad867",
   "metadata": {},
   "outputs": [],
   "source": [
    "\n",
    "# Disable SSL warnings (optional but not recommended in production)\n",
    "warnings.filterwarnings(\"ignore\")"
   ]
  },
  {
   "cell_type": "code",
   "execution_count": 3,
   "id": "1742169f-9648-4d42-9e1e-2aaaafaaa44e",
   "metadata": {},
   "outputs": [
    {
     "name": "stdout",
     "output_type": "stream",
     "text": [
      "Processing file: ./resources/original_script/original_notebook.py\n",
      "▶️ Using gpt-4-turbo via OpenAI API...\n"
     ]
    },
    {
     "data": {
      "text/markdown": [
       "📝 **Notes from LLM:**\n",
       "\n",
       "NOTE:\n",
       "- The original code was corrected for PEP 8 style compliance and redundancy. Functions were extracted from the single function to enhance modularity and reusability.\n",
       "- All functions now include specific docstrings compliant with PEP 257. Detailed unit tests for each function have been added to ensure results are as expected, fulfilling the necessity of unittests.\n",
       "- Each function now operates as a part of the data processing pipeline, which is more efficient and cleaner.\n",
       "- Comments explaining the functionality were added before complex logic actions to clarify their intentions.\n",
       "- ImportError and numpy redundancies were resolved, ensuring no modules are imported multiple times.\n",
       "- Exception handling wasn't explicitly added because the operations are intrinsically safe with given correct input data; however, working on heterogeneous input might require such handling which should be managed by the caller.\n",
       "- Comprehensive unittesting ensures functionality can be validated independently."
      ],
      "text/plain": [
       "<IPython.core.display.Markdown object>"
      ]
     },
     "metadata": {},
     "output_type": "display_data"
    },
    {
     "name": "stdout",
     "output_type": "stream",
     "text": [
      "✅ Optimized script saved to: ./resources/optimized_script/optimized_gpt_unit_tests.py\n"
     ]
    }
   ],
   "source": [
    "\n",
    "system_prompt = \"you are a senior python developer.\"\n",
    "\n",
    "input_path = \"./resources/original_script/\"\n",
    "output_path = \"./resources/optimized_script/\"\n",
    "\n",
    "extension = \".py\"\n",
    "\n",
    "create_unitary_tests = True\n",
    "\n",
    "# \"llama3.2\" or \"gpt-4o-mini\" / \"gpt-4-turbo\" / \"gpt-4\"\t...\n",
    "model = \"gpt-4-turbo\" \n",
    "output_file_name = \"optimized_gpt_unit_tests.py\"\n",
    "execution_mode = \"online\" # online / offline\n",
    "\n",
    "# call optimizer\n",
    "ou.optimize_script(input_path, extension, output_path, model, system_prompt, execution_mode,output_file_name, create_unitary_tests)\n"
   ]
  },
  {
   "cell_type": "code",
   "execution_count": 4,
   "id": "c6cce491-63dc-4b72-8f35-b4dd3446a35a",
   "metadata": {},
   "outputs": [
    {
     "name": "stdout",
     "output_type": "stream",
     "text": [
      "✅ Script executed successfully.\n",
      "\n"
     ]
    }
   ],
   "source": [
    "# script path\n",
    "script_path = output_path + output_file_name\n",
    "\n",
    "# run the optimized script to ensure that the code runs OK\n",
    "ou.run_python_script(script_path)"
   ]
  }
 ],
 "metadata": {
  "kernelspec": {
   "display_name": "Python 3 (ipykernel)",
   "language": "python",
   "name": "python3"
  },
  "language_info": {
   "codemirror_mode": {
    "name": "ipython",
    "version": 3
   },
   "file_extension": ".py",
   "mimetype": "text/x-python",
   "name": "python",
   "nbconvert_exporter": "python",
   "pygments_lexer": "ipython3",
   "version": "3.11.11"
  }
 },
 "nbformat": 4,
 "nbformat_minor": 5
}
