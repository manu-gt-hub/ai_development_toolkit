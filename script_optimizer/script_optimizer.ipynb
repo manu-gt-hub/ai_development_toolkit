{
 "cells": [
  {
   "cell_type": "code",
   "execution_count": 1,
   "id": "76863cfa-71ff-439f-926b-a751b0a926ae",
   "metadata": {},
   "outputs": [],
   "source": [
    "from utils import optimizer_utils as ou"
   ]
  },
  {
   "cell_type": "code",
   "execution_count": 2,
   "id": "1742169f-9648-4d42-9e1e-2aaaafaaa44e",
   "metadata": {},
   "outputs": [
    {
     "name": "stdout",
     "output_type": "stream",
     "text": [
      "Processing file: ./resources/original_script/original_notebook.py\n",
      "▶️ Using gpt-4o-mini via OpenAI API...\n",
      "📝 Notes from LLM:\n",
      " NOTE: \n",
      "In the refactored code, I made several important modifications to improve clarity, functionality, and maintainability:\n",
      "\n",
      "1. **Renamed Function**: The function is renamed to `process_stock_data` for clarity.\n",
      "2. **Docstrings**: Added comprehensive docstrings that explain the function purpose, parameters, return values, and exceptions.\n",
      "3. **Error Handling**: Added checks for necessary columns in the DataFrame and included try/except blocks to catch errors elegantly during processing.\n",
      "4. **Code Simplification**: Removed repetitive code and ensured that logic is clearly sectioned and separated.\n",
      "5. **Unit Tests**: Added basic unit tests to check functionality and validate behavior under normal and erroneous conditions.\n",
      "6. **PEP 8 Compliance**: Ensured the code adheres to PEP 8 styling guidelines.\n",
      "7. **Optimized Logic**: Utilized vectorized operations and maintained efficient use of pandas functionalities.\n",
      "8. **Unused Imports**: Removed duplicate imports and any warranties for unused libraries.\n",
      "✅ Optimized script saved to: ./resources/optimized_script/optimized_gpt_unit_tests.py\n"
     ]
    }
   ],
   "source": [
    "\n",
    "system_prompt = \"you are a senior python developer.\"\n",
    "\n",
    "input_path = \"./resources/original_script/\"\n",
    "output_path = \"./resources/optimized_script/\"\n",
    "\n",
    "extension = \".py\"\n",
    "\n",
    "create_unitary_tests = True\n",
    "\n",
    "# \"llama3.2\" or \"gpt-4o-mini\"\n",
    "model = \"gpt-4o-mini\"\n",
    "output_file_name = \"optimized_gpt_unit_tests.py\"\n",
    "\n",
    "# call optimizer\n",
    "ou.optimize_script(input_path, extension, output_path, model, system_prompt, output_file_name, create_unitary_tests)\n"
   ]
  },
  {
   "cell_type": "code",
   "execution_count": 3,
   "id": "c6cce491-63dc-4b72-8f35-b4dd3446a35a",
   "metadata": {},
   "outputs": [
    {
     "name": "stdout",
     "output_type": "stream",
     "text": [
      "✅ Script executed successfully.\n",
      "\n"
     ]
    }
   ],
   "source": [
    "# script path\n",
    "script_path = output_path + output_file_name\n",
    "\n",
    "# run the optimized script to ensure that the code runs OK\n",
    "ou.run_python_script(script_path)"
   ]
  }
 ],
 "metadata": {
  "kernelspec": {
   "display_name": "Python 3 (ipykernel)",
   "language": "python",
   "name": "python3"
  },
  "language_info": {
   "codemirror_mode": {
    "name": "ipython",
    "version": 3
   },
   "file_extension": ".py",
   "mimetype": "text/x-python",
   "name": "python",
   "nbconvert_exporter": "python",
   "pygments_lexer": "ipython3",
   "version": "3.11.11"
  }
 },
 "nbformat": 4,
 "nbformat_minor": 5
}
