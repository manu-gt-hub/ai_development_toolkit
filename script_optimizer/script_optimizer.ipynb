{
 "cells": [
  {
   "cell_type": "code",
   "execution_count": 1,
   "id": "76863cfa-71ff-439f-926b-a751b0a926ae",
   "metadata": {},
   "outputs": [],
   "source": [
    "from utils import optimizer_utils as ou\n",
    "import warnings\n"
   ]
  },
  {
   "cell_type": "code",
   "execution_count": 2,
   "id": "797c480e-b800-4f4a-bf16-100d750ad867",
   "metadata": {},
   "outputs": [],
   "source": [
    "\n",
    "# Disable SSL warnings (optional but not recommended in production)\n",
    "warnings.filterwarnings(\"ignore\")"
   ]
  },
  {
   "cell_type": "code",
   "execution_count": 3,
   "id": "1742169f-9648-4d42-9e1e-2aaaafaaa44e",
   "metadata": {},
   "outputs": [
    {
     "name": "stdout",
     "output_type": "stream",
     "text": [
      "Processing file: ./resources/original_script/original_notebook.py\n",
      "▶️ Using gpt-4-turbo via OpenAI API...\n"
     ]
    },
    {
     "data": {
      "text/markdown": [
       "📝 **Notes from LLM:**\n",
       "\n",
       "NOTE:\n",
       "1. Unused imports were removed; specifically, duplicated pandas imports.\n",
       "2. Functions have been separated for clarity and modularity; specific operations are individualized.\n",
       "3. Docstrings were added to all functions with detailed explanations and type hints.\n",
       "4. Meaningful function and variable names were defined to replace vague and misleading identifiers.\n",
       "5. Vectorization of pandas operations was adhered to where possible for optimal performance.\n",
       "6. Error handling was incorporated within the `process_stock_data` function using try-except to catch potential issues early.\n",
       "7. Comments were used minimally as the docstrings cover functional explanations.\n",
       "8. The provided example under `__main__` is a simple illustrative block showing the implementation of the function chain on a predefined sample DataFrame.\n",
       "9. The refactored script abides by PEP 8 style guidelines."
      ],
      "text/plain": [
       "<IPython.core.display.Markdown object>"
      ]
     },
     "metadata": {},
     "output_type": "display_data"
    },
    {
     "name": "stdout",
     "output_type": "stream",
     "text": [
      "✅ Optimized script saved to: ./resources/optimized_script/optimized_gpt_unit_tests.py\n"
     ]
    }
   ],
   "source": [
    "\n",
    "system_prompt = \"you are a senior python developer.\"\n",
    "\n",
    "input_path = \"./resources/original_script/\"\n",
    "output_path = \"./resources/optimized_script/\"\n",
    "\n",
    "extension = \".py\"\n",
    "\n",
    "create_unitary_tests = True\n",
    "\n",
    "# \"llama3.2\" or \"gpt-4o-mini\" / \"gpt-4-turbo\" / \"gpt-4\"\t...\n",
    "model = \"gpt-4-turbo\" \n",
    "output_file_name = \"optimized_gpt_unit_tests.py\"\n",
    "execution_mode = \"online\" # online / offline\n",
    "\n",
    "# call optimizer\n",
    "ou.optimize_script(input_path, extension, output_path, model, system_prompt, execution_mode,output_file_name, create_unitary_tests)\n"
   ]
  },
  {
   "cell_type": "code",
   "execution_count": 4,
   "id": "c6cce491-63dc-4b72-8f35-b4dd3446a35a",
   "metadata": {},
   "outputs": [
    {
     "name": "stdout",
     "output_type": "stream",
     "text": [
      "✅ Script executed successfully.\n",
      "Empty DataFrame\n",
      "Columns: [date, close, daily_return, cumulative_return, ma_20, ma_50, volatility_20, ma_crossover, ma_crossover_signal, trend]\n",
      "Index: []\n",
      "\n"
     ]
    }
   ],
   "source": [
    "# script path\n",
    "script_path = output_path + output_file_name\n",
    "\n",
    "# run the optimized script to ensure that the code runs OK\n",
    "ou.run_python_script(script_path)"
   ]
  }
 ],
 "metadata": {
  "kernelspec": {
   "display_name": "Python 3 (ipykernel)",
   "language": "python",
   "name": "python3"
  },
  "language_info": {
   "codemirror_mode": {
    "name": "ipython",
    "version": 3
   },
   "file_extension": ".py",
   "mimetype": "text/x-python",
   "name": "python",
   "nbconvert_exporter": "python",
   "pygments_lexer": "ipython3",
   "version": "3.11.11"
  }
 },
 "nbformat": 4,
 "nbformat_minor": 5
}
