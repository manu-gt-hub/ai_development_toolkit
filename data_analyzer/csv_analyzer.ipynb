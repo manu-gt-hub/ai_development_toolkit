{
 "cells": [
  {
   "cell_type": "code",
   "execution_count": 1,
   "id": "76879941-5efc-455e-a3bc-dc7adf395f2b",
   "metadata": {},
   "outputs": [
    {
     "ename": "SyntaxError",
     "evalue": "'(' was never closed (general_utils.py, line 144)",
     "output_type": "error",
     "traceback": [
      "Traceback \u001b[1;36m(most recent call last)\u001b[0m:\n",
      "\u001b[0m  File \u001b[0;32m~\\AppData\\Local\\anaconda3\\envs\\dev_toolkit\\Lib\\site-packages\\IPython\\core\\interactiveshell.py:3579\u001b[0m in \u001b[0;35mrun_code\u001b[0m\n    exec(code_obj, self.user_global_ns, self.user_ns)\u001b[0m\n",
      "\u001b[1;36m  Cell \u001b[1;32mIn[1], line 1\u001b[1;36m\n\u001b[1;33m    from utils import general_utils as gu\u001b[1;36m\n",
      "\u001b[1;36m  File \u001b[1;32m~\\MIS_COSAS\\git_repos\\ai_development_toolkit\\data_analyzer\\utils\\general_utils.py:144\u001b[1;36m\u001b[0m\n\u001b[1;33m    display(Markdown((line))\u001b[0m\n\u001b[1;37m           ^\u001b[0m\n\u001b[1;31mSyntaxError\u001b[0m\u001b[1;31m:\u001b[0m '(' was never closed\n"
     ]
    }
   ],
   "source": [
    "from utils import general_utils as gu"
   ]
  },
  {
   "cell_type": "code",
   "execution_count": null,
   "id": "ebe43d28-5bc4-4682-bff9-399447d22485",
   "metadata": {},
   "outputs": [],
   "source": [
    "user_prompt=\"\"\"\n",
    "Parse this CSV and remove duplicates in the Industry_name_NZSIOC and Variable_code columns, check that there are no nulls in the date Industry_code_ANZSIC06\n",
    "\"\"\"\n",
    "\n",
    "model_name=\"gpt-4o-mini\"\n",
    "model_temperature = 1\n",
    "\n",
    "report = gu.anonymize_and_process(\n",
    "    model_name = model_name,\n",
    "    temperature = model_temperature,\n",
    "    columns_to_anonymize=[\"Year\"],\n",
    "    input_csv_dir=\"./resources/input/\",\n",
    "    output_csv_dir=\"./resources/output/\",\n",
    "    output_file_name=\"processed.csv\",\n",
    "    report_file_name=\"REPORT.md\",\n",
    "    prompt=user_prompt,\n",
    "    show_sample=True\n",
    ")\n",
    "\n",
    "gu.print_report(report)\n"
   ]
  }
 ],
 "metadata": {
  "kernelspec": {
   "display_name": "Python 3 (ipykernel)",
   "language": "python",
   "name": "python3"
  },
  "language_info": {
   "codemirror_mode": {
    "name": "ipython",
    "version": 3
   },
   "file_extension": ".py",
   "mimetype": "text/x-python",
   "name": "python",
   "nbconvert_exporter": "python",
   "pygments_lexer": "ipython3",
   "version": "3.11.11"
  }
 },
 "nbformat": 4,
 "nbformat_minor": 5
}
