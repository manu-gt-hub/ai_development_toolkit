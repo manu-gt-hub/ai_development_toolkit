{
 "cells": [
  {
   "cell_type": "code",
   "execution_count": 1,
   "id": "76879941-5efc-455e-a3bc-dc7adf395f2b",
   "metadata": {},
   "outputs": [],
   "source": [
    "from utils import general_utils as gu"
   ]
  },
  {
   "cell_type": "code",
   "execution_count": 2,
   "id": "ebe43d28-5bc4-4682-bff9-399447d22485",
   "metadata": {},
   "outputs": [
    {
     "data": {
      "text/markdown": [
       "## Original data:\n"
      ],
      "text/plain": [
       "<IPython.core.display.Markdown object>"
      ]
     },
     "metadata": {},
     "output_type": "display_data"
    },
    {
     "data": {
      "text/html": [
       "<div>\n",
       "<style scoped>\n",
       "    .dataframe tbody tr th:only-of-type {\n",
       "        vertical-align: middle;\n",
       "    }\n",
       "\n",
       "    .dataframe tbody tr th {\n",
       "        vertical-align: top;\n",
       "    }\n",
       "\n",
       "    .dataframe thead th {\n",
       "        text-align: right;\n",
       "    }\n",
       "</style>\n",
       "<table border=\"1\" class=\"dataframe\">\n",
       "  <thead>\n",
       "    <tr style=\"text-align: right;\">\n",
       "      <th></th>\n",
       "      <th>reference_number</th>\n",
       "      <th>grid_ref_easting</th>\n",
       "      <th>grid_ref_northing</th>\n",
       "      <th>number_of_vehicles</th>\n",
       "      <th>number_of_casualties</th>\n",
       "      <th>accident_date</th>\n",
       "      <th>time_24hr</th>\n",
       "      <th>1st_road_class</th>\n",
       "      <th>road_surface</th>\n",
       "      <th>lighting_conditions</th>\n",
       "      <th>weather_conditions</th>\n",
       "      <th>casualty_class</th>\n",
       "      <th>casualty_severity</th>\n",
       "      <th>sex_of_casualty</th>\n",
       "      <th>age_of_casualty</th>\n",
       "      <th>type_of_vehicle</th>\n",
       "    </tr>\n",
       "  </thead>\n",
       "  <tbody>\n",
       "    <tr>\n",
       "      <th>0</th>\n",
       "      <td>1112091</td>\n",
       "      <td>429175</td>\n",
       "      <td>431904</td>\n",
       "      <td>2</td>\n",
       "      <td>1</td>\n",
       "      <td>01/01/2014</td>\n",
       "      <td>1840</td>\n",
       "      <td>6</td>\n",
       "      <td>2</td>\n",
       "      <td>4</td>\n",
       "      <td>2</td>\n",
       "      <td>1</td>\n",
       "      <td>3</td>\n",
       "      <td>1</td>\n",
       "      <td>58</td>\n",
       "      <td>9</td>\n",
       "    </tr>\n",
       "  </tbody>\n",
       "</table>\n",
       "</div>"
      ],
      "text/plain": [
       "  reference_number  grid_ref_easting  grid_ref_northing  number_of_vehicles  \\\n",
       "0          1112091            429175             431904                   2   \n",
       "\n",
       "   number_of_casualties accident_date  time_24hr  1st_road_class  \\\n",
       "0                     1    01/01/2014       1840               6   \n",
       "\n",
       "   road_surface  lighting_conditions  weather_conditions  casualty_class  \\\n",
       "0             2                    4                   2               1   \n",
       "\n",
       "   casualty_severity  sex_of_casualty  age_of_casualty  type_of_vehicle  \n",
       "0                  3                1               58                9  "
      ]
     },
     "metadata": {},
     "output_type": "display_data"
    },
    {
     "data": {
      "text/markdown": [
       "## Anonymized data:\n"
      ],
      "text/plain": [
       "<IPython.core.display.Markdown object>"
      ]
     },
     "metadata": {},
     "output_type": "display_data"
    },
    {
     "data": {
      "text/html": [
       "<div>\n",
       "<style scoped>\n",
       "    .dataframe tbody tr th:only-of-type {\n",
       "        vertical-align: middle;\n",
       "    }\n",
       "\n",
       "    .dataframe tbody tr th {\n",
       "        vertical-align: top;\n",
       "    }\n",
       "\n",
       "    .dataframe thead th {\n",
       "        text-align: right;\n",
       "    }\n",
       "</style>\n",
       "<table border=\"1\" class=\"dataframe\">\n",
       "  <thead>\n",
       "    <tr style=\"text-align: right;\">\n",
       "      <th></th>\n",
       "      <th>reference_number</th>\n",
       "      <th>grid_ref_easting</th>\n",
       "      <th>grid_ref_northing</th>\n",
       "      <th>number_of_vehicles</th>\n",
       "      <th>number_of_casualties</th>\n",
       "      <th>accident_date</th>\n",
       "      <th>time_24hr</th>\n",
       "      <th>1st_road_class</th>\n",
       "      <th>road_surface</th>\n",
       "      <th>lighting_conditions</th>\n",
       "      <th>weather_conditions</th>\n",
       "      <th>casualty_class</th>\n",
       "      <th>casualty_severity</th>\n",
       "      <th>sex_of_casualty</th>\n",
       "      <th>age_of_casualty</th>\n",
       "      <th>type_of_vehicle</th>\n",
       "    </tr>\n",
       "  </thead>\n",
       "  <tbody>\n",
       "    <tr>\n",
       "      <th>0</th>\n",
       "      <td>3af1988122f9bb31f43c07be192164ff239d9a6fa2a5e2...</td>\n",
       "      <td>429175</td>\n",
       "      <td>431904</td>\n",
       "      <td>2</td>\n",
       "      <td>1</td>\n",
       "      <td>01/01/2014</td>\n",
       "      <td>1840</td>\n",
       "      <td>6</td>\n",
       "      <td>2</td>\n",
       "      <td>4</td>\n",
       "      <td>2</td>\n",
       "      <td>1</td>\n",
       "      <td>3</td>\n",
       "      <td>1</td>\n",
       "      <td>58</td>\n",
       "      <td>9</td>\n",
       "    </tr>\n",
       "  </tbody>\n",
       "</table>\n",
       "</div>"
      ],
      "text/plain": [
       "                                    reference_number  grid_ref_easting  \\\n",
       "0  3af1988122f9bb31f43c07be192164ff239d9a6fa2a5e2...            429175   \n",
       "\n",
       "   grid_ref_northing  number_of_vehicles  number_of_casualties accident_date  \\\n",
       "0             431904                   2                     1    01/01/2014   \n",
       "\n",
       "   time_24hr  1st_road_class  road_surface  lighting_conditions  \\\n",
       "0       1840               6             2                    4   \n",
       "\n",
       "   weather_conditions  casualty_class  casualty_severity  sex_of_casualty  \\\n",
       "0                   2               1                  3                1   \n",
       "\n",
       "   age_of_casualty  type_of_vehicle  \n",
       "0               58                9  "
      ]
     },
     "metadata": {},
     "output_type": "display_data"
    },
    {
     "name": "stdout",
     "output_type": "stream",
     "text": [
      "✅ Process completed. Report saved at: ./resources/output/REPORT.md\n"
     ]
    },
    {
     "data": {
      "text/markdown": [
       "\n",
       "===== Processing Report =====\n"
      ],
      "text/plain": [
       "<IPython.core.display.Markdown object>"
      ]
     },
     "metadata": {},
     "output_type": "display_data"
    },
    {
     "data": {
      "text/markdown": [
       "✅ CSV read from: ./resources/input/"
      ],
      "text/plain": [
       "<IPython.core.display.Markdown object>"
      ]
     },
     "metadata": {},
     "output_type": "display_data"
    },
    {
     "data": {
      "text/markdown": [
       "➡️ Rows: 2533, Columns: 16"
      ],
      "text/plain": [
       "<IPython.core.display.Markdown object>"
      ]
     },
     "metadata": {},
     "output_type": "display_data"
    },
    {
     "data": {
      "text/markdown": [
       "🔒 Anonymized column: reference_number"
      ],
      "text/plain": [
       "<IPython.core.display.Markdown object>"
      ]
     },
     "metadata": {},
     "output_type": "display_data"
    },
    {
     "data": {
      "text/markdown": [
       "📁 Anonymized CSV saved at: ./resources/output/processed.csv"
      ],
      "text/plain": [
       "<IPython.core.display.Markdown object>"
      ]
     },
     "metadata": {},
     "output_type": "display_data"
    },
    {
     "data": {
      "text/markdown": [
       "☁️ File uploaded to OpenAI with file_id: file-DF4wTwkNq87J9dZ9aLn1Ug"
      ],
      "text/plain": [
       "<IPython.core.display.Markdown object>"
      ]
     },
     "metadata": {},
     "output_type": "display_data"
    },
    {
     "data": {
      "text/markdown": [
       "🤖 Assistant response:"
      ],
      "text/plain": [
       "<IPython.core.display.Markdown object>"
      ]
     },
     "metadata": {},
     "output_type": "display_data"
    },
    {
     "data": {
      "text/markdown": [
       "\n",
       "--- Begin Assistant Response ---\n"
      ],
      "text/plain": [
       "<IPython.core.display.Markdown object>"
      ]
     },
     "metadata": {},
     "output_type": "display_data"
    },
    {
     "data": {
      "text/markdown": [
       "The date with the highest number of vehicles involved in incidents is **March 10, 2014**, with a total of **29 vehicles** implicated. \n",
       "\n",
       "If you need further analysis or any additional tasks, let me know!"
      ],
      "text/plain": [
       "<IPython.core.display.Markdown object>"
      ]
     },
     "metadata": {},
     "output_type": "display_data"
    },
    {
     "data": {
      "text/markdown": [
       "\n",
       "================================="
      ],
      "text/plain": [
       "<IPython.core.display.Markdown object>"
      ]
     },
     "metadata": {},
     "output_type": "display_data"
    }
   ],
   "source": [
    "user_prompt=\"\"\"\n",
    "Parse this CSV and remove duplicates in the reference_number column, and tell me in which date there were more vehicles implicated\n",
    "\"\"\"\n",
    "\n",
    "model_name=\"gpt-4o-mini\"\n",
    "model_temperature = 1\n",
    "\n",
    "report = gu.anonymize_and_process(\n",
    "    model_name = model_name,\n",
    "    temperature = model_temperature,\n",
    "    columns_to_anonymize=[\"reference_number\"],\n",
    "    input_csv_dir=\"./resources/input/\",\n",
    "    output_csv_dir=\"./resources/output/\",\n",
    "    output_file_name=\"processed.csv\",\n",
    "    report_file_name=\"REPORT.md\",\n",
    "    prompt=user_prompt,\n",
    "    input_filename=\"normalized_dataset.csv\",\n",
    "    show_sample=True\n",
    ")\n",
    "\n",
    "gu.print_report(report)\n"
   ]
  }
 ],
 "metadata": {
  "kernelspec": {
   "display_name": "Python 3 (ipykernel)",
   "language": "python",
   "name": "python3"
  },
  "language_info": {
   "codemirror_mode": {
    "name": "ipython",
    "version": 3
   },
   "file_extension": ".py",
   "mimetype": "text/x-python",
   "name": "python",
   "nbconvert_exporter": "python",
   "pygments_lexer": "ipython3",
   "version": "3.11.11"
  }
 },
 "nbformat": 4,
 "nbformat_minor": 5
}
