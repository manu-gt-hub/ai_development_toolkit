{
 "cells": [
  {
   "cell_type": "code",
   "execution_count": 1,
   "id": "1fb4f05f-9237-4a9c-b661-37c9539df091",
   "metadata": {},
   "outputs": [],
   "source": [
    "from utils import transcription_utils as utils\n",
    "import warnings\n",
    "from IPython.display import Markdown, display"
   ]
  },
  {
   "cell_type": "code",
   "execution_count": 2,
   "id": "7e6a0e52-37a9-4df0-a954-c50a4afc287b",
   "metadata": {},
   "outputs": [],
   "source": [
    "\n",
    "# Disable SSL warnings (optional but not recommended in production)\n",
    "warnings.filterwarnings(\"ignore\")"
   ]
  },
  {
   "cell_type": "code",
   "execution_count": 3,
   "id": "bd13e31a-2f4f-48e9-aa84-4d7351a816be",
   "metadata": {},
   "outputs": [
    {
     "name": "stdout",
     "output_type": "stream",
     "text": [
      "🎧 Using audio file: ./resources/input\\audio_sample.mp3\n",
      "🧠 Transcribing with Whisper (medium)... please wait, this can take several minutes...\n",
      "✅ Transcription completed.\n",
      "📝 Transcription saved at ./resources/output/transcription.txt\n",
      "🧾 Generating text summary using LLaMa 3...\n",
      "📄 Summary saved at ./resources/output/summary.txt\n"
     ]
    },
    {
     "data": {
      "text/markdown": [
       "**Reunión Médica - Resumen y Puntos Clave**\n",
       "\n",
       "**Fecha:** No especificada\n",
       "**Persona:** Paciente con dolor en el pecho\n",
       "\n",
       "**Resumen:**\n",
       "El paciente presentó un dolor en el pecho que se inició 30 minutos antes de la reunión. El dolor era una sensación de presión y dureza, similar a una \"presencia\" de dolor en el pecho. No había tenido episodios similares previamente. Durante la entrevista, también reportó dificultad respiratoria y sensación de fatiga.\n",
       "\n",
       "**Puntos Clave:**\n",
       "\n",
       "*   Dolor en el pecho que se inició 30 minutos antes de la reunión\n",
       "*   Dolor similar a una \"presencia\" de dolor en el pecho\n",
       "*   Dificultad respiratoria desde hace aproximadamente un día\n",
       "*   Sensación de fatiga\n",
       "*   No tenido episodios similares previamente\n",
       "*   Historia de enfermedades crónicas: hipertensión y hipercolesterolemia\n",
       "*   Consumo de alcohol, drogas recreativas y tabaco (20 años)\n",
       "\n",
       "**Recomendaciones Futuras:**\n",
       "Deberá ser remitido a un especialista para una evaluación más detallada."
      ],
      "text/plain": [
       "<IPython.core.display.Markdown object>"
      ]
     },
     "metadata": {},
     "output_type": "display_data"
    }
   ],
   "source": [
    "# 1. Settings\n",
    "AUDIO_DIR = \"./resources/input/\"\n",
    "OUTPUT_DIR = \"./resources/output/\"\n",
    "MODEL_SIZE = \"medium\"  # You can use tiny, base, small, medium, large\n",
    "LANGUAGE = \"spanish\"\n",
    "\n",
    "summary = utils.transcribe_audio(AUDIO_DIR, OUTPUT_DIR, MODEL_SIZE, LANGUAGE)\n",
    "\n",
    "display(Markdown(summary))\n",
    "\n"
   ]
  }
 ],
 "metadata": {
  "kernelspec": {
   "display_name": "Python 3 (ipykernel)",
   "language": "python",
   "name": "python3"
  },
  "language_info": {
   "codemirror_mode": {
    "name": "ipython",
    "version": 3
   },
   "file_extension": ".py",
   "mimetype": "text/x-python",
   "name": "python",
   "nbconvert_exporter": "python",
   "pygments_lexer": "ipython3",
   "version": "3.11.11"
  }
 },
 "nbformat": 4,
 "nbformat_minor": 5
}
