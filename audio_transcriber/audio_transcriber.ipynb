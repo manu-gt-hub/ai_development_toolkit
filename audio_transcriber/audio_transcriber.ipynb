{
 "cells": [
  {
   "cell_type": "code",
   "execution_count": null,
   "id": "6f8fd4ad-7bd1-4517-9560-78965e66477a",
   "metadata": {},
   "outputs": [
    {
     "name": "stdout",
     "output_type": "stream",
     "text": [
      "🎧 Usando archivo de audio: ./resources/audio\\audio_sample.mp3\n",
      "🧠 Transcribiendo con Whisper (medium)...\n"
     ]
    },
    {
     "name": "stderr",
     "output_type": "stream",
     "text": [
      "C:\\Users\\MANGUTI\\AppData\\Local\\anaconda3\\envs\\dev_toolkit\\Lib\\site-packages\\whisper\\__init__.py:150: FutureWarning: You are using `torch.load` with `weights_only=False` (the current default value), which uses the default pickle module implicitly. It is possible to construct malicious pickle data which will execute arbitrary code during unpickling (See https://github.com/pytorch/pytorch/blob/main/SECURITY.md#untrusted-models for more details). In a future release, the default value for `weights_only` will be flipped to `True`. This limits the functions that could be executed during unpickling. Arbitrary objects will no longer be allowed to be loaded via this mode unless they are explicitly allowlisted by the user via `torch.serialization.add_safe_globals`. We recommend you start setting `weights_only=True` for any use case where you don't have full control of the loaded file. Please open an issue on GitHub for any issues related to this experimental feature.\n",
      "  checkpoint = torch.load(fp, map_location=device)\n",
      "C:\\Users\\MANGUTI\\AppData\\Local\\anaconda3\\envs\\dev_toolkit\\Lib\\site-packages\\whisper\\transcribe.py:126: UserWarning: FP16 is not supported on CPU; using FP32 instead\n",
      "  warnings.warn(\"FP16 is not supported on CPU; using FP32 instead\")\n"
     ]
    }
   ],
   "source": [
    "import os\n",
    "import glob\n",
    "import whisper\n",
    "from transformers import pipeline\n",
    "\n",
    "# 1. Configuraciones\n",
    "AUDIO_DIR = \"./resources/audio/\"\n",
    "OUTPUT_DIR = \"./resources/output/\"\n",
    "MODEL_SIZE = \"medium\"  # Puedes usar tiny, base, small, medium, large\n",
    "\n",
    "# 2. Crea la carpeta de salida si no existe\n",
    "os.makedirs(OUTPUT_DIR, exist_ok=True)\n",
    "\n",
    "# 3. Encuentra el primer archivo MP3\n",
    "mp3_files = glob.glob(os.path.join(AUDIO_DIR, \"*.mp3\"))\n",
    "if not mp3_files:\n",
    "    raise FileNotFoundError(f\"No se encontró ningún archivo MP3 en {AUDIO_DIR}\")\n",
    "audio_path = mp3_files[0]\n",
    "print(f\"🎧 Usando archivo de audio: {audio_path}\")\n",
    "\n",
    "# 4. Cargar el modelo Whisper y transcribir\n",
    "print(f\"🧠 Transcribiendo con Whisper ({MODEL_SIZE})...\")\n",
    "model = whisper.load_model(MODEL_SIZE)\n",
    "result = model.transcribe(audio_path)\n",
    "\n",
    "transcription = result[\"text\"]\n",
    "print(\"✅ Transcripción completada.\")\n",
    "\n",
    "# 5. Guardar transcripción\n",
    "transcription_path = os.path.join(OUTPUT_DIR, \"transcription.txt\")\n",
    "with open(transcription_path, \"w\", encoding=\"utf-8\") as f:\n",
    "    f.write(transcription)\n",
    "print(f\"📝 Transcripción guardada en {transcription_path}\")\n",
    "\n",
    "# 6. Opcional: resumir el texto con un modelo local o de Hugging Face\n",
    "print(\"🧾 Generando resumen del texto...\")\n",
    "summarizer = pipeline(\"summarization\", model=\"facebook/bart-large-cnn\")\n",
    "chunks = [transcription[i:i+1024] for i in range(0, len(transcription), 1024)]\n",
    "summary_parts = [summarizer(chunk)[0]['summary_text'] for chunk in chunks]\n",
    "summary = \"\\n\".join(summary_parts)\n",
    "\n",
    "# 7. Guardar resumen\n",
    "summary_path = os.path.join(OUTPUT_DIR, \"summary.txt\")\n",
    "with open(summary_path, \"w\", encoding=\"utf-8\") as f:\n",
    "    f.write(summary)\n",
    "print(f\"📄 Resumen guardado en {summary_path}\")\n"
   ]
  }
 ],
 "metadata": {
  "kernelspec": {
   "display_name": "Python 3 (ipykernel)",
   "language": "python",
   "name": "python3"
  },
  "language_info": {
   "codemirror_mode": {
    "name": "ipython",
    "version": 3
   },
   "file_extension": ".py",
   "mimetype": "text/x-python",
   "name": "python",
   "nbconvert_exporter": "python",
   "pygments_lexer": "ipython3",
   "version": "3.11.11"
  }
 },
 "nbformat": 4,
 "nbformat_minor": 5
}
