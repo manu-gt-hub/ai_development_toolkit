{
 "cells": [
  {
   "cell_type": "markdown",
   "metadata": {
    "id": "It89APiAtTUF"
   },
   "source": [
    "# Create meeting minutes from an Audio file"
   ]
  },
  {
   "cell_type": "code",
   "execution_count": 1,
   "metadata": {
    "id": "FW8nl3XRFrz0"
   },
   "outputs": [],
   "source": [
    "# imports\n",
    "\n",
    "import os\n",
    "import requests\n",
    "import ollama\n",
    "from IPython.display import Markdown, display, update_display\n",
    "from openai import OpenAI\n",
    "\n",
    "from dotenv import load_dotenv\n",
    "from openai import OpenAI\n",
    "import warnings\n",
    "from huggingface_hub import configure_http_backend"
   ]
  },
  {
   "cell_type": "code",
   "execution_count": 2,
   "metadata": {
    "id": "q3D1_T0uG_Qh"
   },
   "outputs": [],
   "source": [
    "# Constants\n",
    "\n",
    "AUDIO_MODEL = \"whisper-1\""
   ]
  },
  {
   "cell_type": "code",
   "execution_count": 3,
   "metadata": {
    "colab": {
     "base_uri": "https://localhost:8080/",
     "height": 339
    },
    "id": "Es9GkQ0FGCMt",
    "outputId": "4a876bda-0519-408a-e46f-7a4bbdcf505f"
   },
   "outputs": [],
   "source": [
    "# mp3 path\n",
    "audio_filename = \"./resources/audio_sample.mp3\""
   ]
  },
  {
   "cell_type": "code",
   "execution_count": 4,
   "metadata": {},
   "outputs": [],
   "source": [
    "# set the session unverified\n",
    "def backend_factory() -> requests.Session:\n",
    "    session = requests.Session()\n",
    "    session.verify = False\n",
    "    return session\n",
    "\n",
    "warnings.filterwarnings(\"ignore\")\n",
    "configure_http_backend(backend_factory=backend_factory)"
   ]
  },
  {
   "cell_type": "code",
   "execution_count": 5,
   "metadata": {
    "id": "qP6OB2OeGC2C"
   },
   "outputs": [],
   "source": [
    "# Sign in to OpenAI using Secrets in Colab\n",
    "load_dotenv()\n",
    "\n",
    "openai_api_key = os.getenv('OPENAI_API_KEY')\n",
    "openai = OpenAI(api_key=openai_api_key)"
   ]
  },
  {
   "cell_type": "code",
   "execution_count": 6,
   "metadata": {},
   "outputs": [
    {
     "name": "stdout",
     "output_type": "stream",
     "text": [
      "brings you in here today? Yeah, I have this pain in my chest. Okay, and where is the pain exactly? It's just right over on the on the left side. Okay, and when did this pain start? It started just 30 minutes ago. Okay, and did it just come on randomly or were you doing something strenuous? I was just shuttling the driveway and it came on. Okay, and has that pain been getting worse at all over the last one and a half an hour? No, it just came on suddenly and it's sorry, yeah, the pain has been there this whole time and it's gotten worse ever since it started. Okay, and how would you describe the pain? Is it kind of like an aching pain or is it a sharp or tightness kind of pain? How would you describe it? It feels dull. I feel like there's a lot of pressure on my chest. Okay, and how would you rate the pain right now on a scale of zero to ten? Zero being the least amount of pain you've felt in your life, ten being the worst. Seven. Seven, okay. Have you had any similar episodes before? No, I've never had any chest pain before. Okay, and is the pain just staying in the region, the left chest area that you mentioned or is it traveling to any other part of your body? No, I'm kind of just feeling it right here on the left side. Okay, is there anything that you do that makes the pain either get worse or go away or like get better? I think it's a bit worse if I'm moving around or when I was walking in here I think it made it a bit worse but nothing has seemed to make it any better since it's starting. Okay, and does it change at all from you changing positions like if you're standing up versus sitting down or laying down? I think it's a little bit worse when I'm laying down. Okay, and other than the pain that you've been having, have you been having any other symptoms like a cough or difficulty breathing or any pain when you're breathing in or out? I've felt a little bit short of breath or having difficulty breathing since yesterday when the pain or sorry since the pain started but just the difficulty breathing. Okay, and have you recently injured your chest or surrounding area at all like from fall or anything like that? I do play rugby and was tackled by another player yesterday but my chest felt fine after that. Okay, so but the pain just started half an hour ago? Yeah. Okay, have you been traveling at all recently? No, I've been at home. Okay, has anyone around you been sick at all? No, no. Okay, have you been having any symptoms like nausea or vomiting or any fevers or chills? No nausea or vomiting but I do feel a little bit hot today. Okay, have you measured your temperature at all? I did and it was 38 degrees. Okay, and have you been having any kind of swelling in your legs or feet? No swelling in my legs. Okay, have you been feeling tired at all like increasingly fatigued? No, my energy has been good. Okay, have you been having any kind of thumping or palpitations or feel like your heart has been racing at all? It does feel like it's beating faster right now. Usually it only feels like this when I'm playing sports. Okay, and have you noticed any changes in your skin at all, any rashes? No rashes. Okay, have you had any cough or runny nose or sore throat, any kind of those symptoms in the past month? A few weeks ago my nose was a little runny but that went away on its own. I haven't had any cough. Okay, and have you been feeling dizzy at all or have you fainted? No dizziness and no I haven't fainted at all. Okay, just a few more questions. Have you had any diagnosis made by any physician or anything like diabetes or high blood pressure? Yeah, I've been told I have high cholesterol and high blood pressure. Okay, and do you take any medications for these things? I do take medications for both blood pressure and cholesterol, risubastatin and lisinopril and I take a multivitamin. Okay, and do you have any allergies to any medications at all? No allergies. Okay, have you at all in the past been hospitalized for any reason? No hospitalizations. Any previous surgeries? No. Okay, and within your family has anyone passed away from a heart attack or any cancers that weren't in the family? No. Okay, and currently right now do you live alone, do you live with someone and where do you live like an apartment, house? I live in a house with my parents. Okay, and do you currently work? Yeah, I drive a bus for the city. Okay, and in your daily routine would you say you get enough exercise throughout the week? Yeah, usually on Sundays I'll go for a run. Okay, and how about your diet, how's your diet like just regularly? Usually I feel like it's fairly balanced overall. I might eat out a little bit too often, but I try to eat as many vegetables as I can. Okay, and do you smoke cigarettes at all? I do, yes. I've been smoking for the last 20 years roughly. Okay, how much do you smoke on an average day? About a half a pack to a pack a day. Okay, and do you drink? No alcohol. Okay, and any recreational drugs like marijuana? No marijuana, but I have used crystal meth in the past. Okay, and when was the last time that you used crystal meth? Six days ago. Six days ago? Okay, and how often do you use crystal meth? I would say a couple of times a month. A couple of times a month, okay. All right, and for how long have you been using crystal meth? For the last seven years. Seven years? Okay, all right, thank you.\n",
      "\n"
     ]
    }
   ],
   "source": [
    "import requests\n",
    "\n",
    "api_url = \"https://api.openai.com/v1/audio/transcriptions\"\n",
    "\n",
    "# Open the audio file\n",
    "with open(audio_filename, \"rb\") as audio_file:\n",
    "    # Prepare the data for the request\n",
    "    files = {\"file\": audio_file}\n",
    "    data = {\"model\": AUDIO_MODEL, \"response_format\": \"text\"}\n",
    "    headers = {\"Authorization\": f\"Bearer {openai_api_key}\"}\n",
    "\n",
    "    # Make the request without SSL verification\n",
    "    response = requests.post(api_url, files=files, data=data, headers=headers, verify=False)\n",
    "\n",
    "transcription = response.text\n",
    "# Print the transcription\n",
    "print(transcription)"
   ]
  },
  {
   "cell_type": "code",
   "execution_count": 7,
   "metadata": {
    "id": "6CujZRAgMimy"
   },
   "outputs": [
    {
     "data": {
      "text/markdown": [
       "**Meeting Minutes: Chest Pain Discussion**\n",
       "=====================================\n",
       "\n",
       "**Summary**\n",
       "-----------\n",
       "\n",
       "A patient presented with sudden onset chest pain that has been worsening over 30 minutes. The pain is described as dull and feels like there's pressure on the left side of the chest. The patient has a history of high cholesterol, high blood pressure, and smokes cigarettes, but does not have any previous symptoms or diagnoses related to heart problems.\n",
       "\n",
       "**Key Discussion Points**\n",
       "------------------------\n",
       "\n",
       "*   Sudden onset chest pain that worsened over 30 minutes\n",
       "*   Pain is described as dull and feels like pressure on the left side of the chest\n",
       "*   Patient has a history of high cholesterol, high blood pressure, and smokes cigarettes\n",
       "*   No previous symptoms or diagnoses related to heart problems\n",
       "*   Patient reports feeling short of breath since yesterday when the pain started\n",
       "\n",
       "**Takeaways**\n",
       "-------------\n",
       "\n",
       "*   The patient's sudden onset chest pain warrants further evaluation and potential emergency medical attention.\n",
       "*   The patient's history of high cholesterol, high blood pressure, and smoking increases their risk for cardiovascular disease.\n",
       "*   The patient's symptoms of feeling short of breath since yesterday when the pain started should be monitored closely.\n",
       "\n",
       "**Action Items**\n",
       "----------------\n",
       "\n",
       "*   Schedule an immediate appointment with a cardiologist or primary care physician to evaluate the patient's chest pain\n",
       "*   Order a 12-lead electrocardiogram (ECG) and other diagnostic tests as needed\n",
       "*   Advise the patient to report any worsening symptoms or changes in their condition immediately"
      ],
      "text/plain": [
       "<IPython.core.display.Markdown object>"
      ]
     },
     "metadata": {},
     "output_type": "display_data"
    }
   ],
   "source": [
    "# make LLAMA 3.2 summarize the transcription\n",
    "\n",
    "system_message = \"You are an assistant that produces minutes of meetings from transcripts, with summary, key discussion points, in markdown.\"\n",
    "user_prompt = f\"Below is an extract transcript from a conversation. Please write minutes in markdown, including a summary with any relevant discussion points;\\n{transcription}\"\n",
    "\n",
    "response = ollama.chat(\n",
    "                model=\"llama3.2\",\n",
    "                messages=[\n",
    "                    {\n",
    "                        \"role\": \"system\",\n",
    "                        \"content\": system_message\n",
    "                    },\n",
    "                    {\n",
    "                        \"role\": \"user\",\n",
    "                        \"content\": user_prompt,\n",
    "                    }\n",
    "                ],\n",
    "            )\n",
    "llm_response = response[\"message\"][\"content\"]\n",
    "display(Markdown(llm_response))"
   ]
  }
 ],
 "metadata": {
  "accelerator": "GPU",
  "colab": {
   "gpuType": "T4",
   "provenance": []
  },
  "kernelspec": {
   "display_name": "Python 3 (ipykernel)",
   "language": "python",
   "name": "python3"
  },
  "language_info": {
   "codemirror_mode": {
    "name": "ipython",
    "version": 3
   },
   "file_extension": ".py",
   "mimetype": "text/x-python",
   "name": "python",
   "nbconvert_exporter": "python",
   "pygments_lexer": "ipython3",
   "version": "3.11.11"
  }
 },
 "nbformat": 4,
 "nbformat_minor": 4
}
