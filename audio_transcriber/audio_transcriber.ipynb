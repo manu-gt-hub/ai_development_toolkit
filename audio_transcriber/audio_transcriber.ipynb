{
 "cells": [
  {
   "cell_type": "code",
   "execution_count": 1,
   "id": "1fb4f05f-9237-4a9c-b661-37c9539df091",
   "metadata": {},
   "outputs": [],
   "source": [
    "from utils import transcription_utils as utils\n",
    "import warnings\n",
    "from IPython.display import Markdown, display"
   ]
  },
  {
   "cell_type": "code",
   "execution_count": 2,
   "id": "7e6a0e52-37a9-4df0-a954-c50a4afc287b",
   "metadata": {},
   "outputs": [],
   "source": [
    "\n",
    "# Disable SSL warnings (optional but not recommended in production)\n",
    "warnings.filterwarnings(\"ignore\")"
   ]
  },
  {
   "cell_type": "code",
   "execution_count": null,
   "id": "bd13e31a-2f4f-48e9-aa84-4d7351a816be",
   "metadata": {},
   "outputs": [
    {
     "name": "stdout",
     "output_type": "stream",
     "text": [
      "🎧 Using audio file: ./resources/input\\audio_sample.mp3\n",
      "🧠 Transcribing with Whisper (medium)... please wait, this can take several minutes...\n"
     ]
    }
   ],
   "source": [
    "# 1. Settings\n",
    "AUDIO_DIR = \"./resources/input/\"\n",
    "OUTPUT_DIR = \"./resources/output/\"\n",
    "MODEL_SIZE = \"medium\"  # You can use tiny, base, small, medium, large\n",
    "\n",
    "summary = utils.transcribe_audio(AUDIO_DIR, OUTPUT_DIR, MODEL_SIZE)\n",
    "display(Markdown(summary))"
   ]
  }
 ],
 "metadata": {
  "kernelspec": {
   "display_name": "Python 3 (ipykernel)",
   "language": "python",
   "name": "python3"
  },
  "language_info": {
   "codemirror_mode": {
    "name": "ipython",
    "version": 3
   },
   "file_extension": ".py",
   "mimetype": "text/x-python",
   "name": "python",
   "nbconvert_exporter": "python",
   "pygments_lexer": "ipython3",
   "version": "3.11.11"
  }
 },
 "nbformat": 4,
 "nbformat_minor": 5
}
